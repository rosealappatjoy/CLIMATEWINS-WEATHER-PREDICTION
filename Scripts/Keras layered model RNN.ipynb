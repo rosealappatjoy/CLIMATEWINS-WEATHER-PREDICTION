{
 "cells": [
  {
   "cell_type": "markdown",
   "id": "e1494c1c-22e2-47b8-8632-61a29db9b186",
   "metadata": {},
   "source": [
    "#  Keras layered model: RNN / LSTM model"
   ]
  },
  {
   "cell_type": "markdown",
   "id": "2c55d86f-0834-4e18-8969-acb6460099b5",
   "metadata": {},
   "source": [
    "## Table of Contents\n",
    "\n",
    "#### 1. Importing Libraries and Data\n",
    "#### 2. Data Wrangling\n",
    "#### 3. Reshaping for modeling\n",
    "#### 4. Data Split\n",
    "#### 5. Creating Keras Model\n",
    "#### 6. Compiling and Running\n",
    "#### 7. Creating Confusion Matrix"
   ]
  },
  {
   "cell_type": "markdown",
   "id": "ff2ce58a-38c3-4b87-88f1-acd7db65c3e9",
   "metadata": {},
   "source": [
    "## 01. Importing Libraries and Data"
   ]
  },
  {
   "cell_type": "code",
   "execution_count": 1,
   "id": "06538f38-5884-49b2-abc3-b9af5fe1f927",
   "metadata": {},
   "outputs": [],
   "source": [
    "import pandas as pd\n",
    "import numpy as np\n",
    "import seaborn as sns\n",
    "import os\n",
    "import operator\n",
    "import matplotlib.pyplot as plt\n",
    "import tensorflow as tf\n",
    "from tensorflow import keras\n",
    "from numpy import unique\n",
    "from numpy import reshape\n",
    "from keras.models import Sequential\n",
    "from keras.layers import Conv1D, Conv2D, Dense, BatchNormalization, Flatten, MaxPooling1D, Dropout\n",
    "from keras.layers import LSTM\n",
    "from keras.utils import to_categorical\n",
    "from sklearn.model_selection import train_test_split\n",
    "from sklearn.preprocessing import LabelEncoder\n",
    "\n",
    "import warnings\n",
    "warnings.filterwarnings(\"ignore\")"
   ]
  },
  {
   "cell_type": "code",
   "execution_count": 2,
   "id": "f1d9ee42-807d-49d9-a60e-6be688a414f6",
   "metadata": {},
   "outputs": [],
   "source": [
    "### Import Data\n",
    "# Define a path for easier importing \n",
    "path = r'C:\\Users\\DELL\\Documents\\Climatewins\\Data'"
   ]
  },
  {
   "cell_type": "code",
   "execution_count": 3,
   "id": "66e1c9f5-a639-4edb-9f55-9e020d1f5c03",
   "metadata": {},
   "outputs": [],
   "source": [
    "# Set display options to show all columns\n",
    "\n",
    "pd.set_option('display.max_columns', None)"
   ]
  },
  {
   "cell_type": "code",
   "execution_count": 4,
   "id": "01540c40-5a61-4996-adbf-5493c89ec298",
   "metadata": {},
   "outputs": [],
   "source": [
    "# Import climate_cleaned data\n",
    "\n",
    "climate = pd.read_csv(os.path.join(path, 'Prepared/climate_cleaned.csv'), index_col = False)"
   ]
  },
  {
   "cell_type": "code",
   "execution_count": 5,
   "id": "9534e147-dfc6-4661-be17-0100ca701783",
   "metadata": {},
   "outputs": [],
   "source": [
    "### Import the  weather data\n",
    "weather = pd.read_csv(os.path.join(path, 'Dataset-Answers-Weather_Prediction_Pleasant_Weather.csv'))"
   ]
  },
  {
   "cell_type": "code",
   "execution_count": 6,
   "id": "6717bfdf-f526-4bc7-835e-2eaf1e451c5d",
   "metadata": {},
   "outputs": [
    {
     "data": {
      "text/plain": [
       "(22950, 135)"
      ]
     },
     "execution_count": 6,
     "metadata": {},
     "output_type": "execute_result"
    }
   ],
   "source": [
    "climate.shape"
   ]
  },
  {
   "cell_type": "code",
   "execution_count": 7,
   "id": "f3391e6b-3f52-4d4d-83ca-e19936606444",
   "metadata": {},
   "outputs": [
    {
     "data": {
      "text/plain": [
       "(22950, 16)"
      ]
     },
     "execution_count": 7,
     "metadata": {},
     "output_type": "execute_result"
    }
   ],
   "source": [
    "weather.shape"
   ]
  },
  {
   "cell_type": "markdown",
   "id": "e96b04fa-c065-4d59-ad87-3895e5d40da2",
   "metadata": {},
   "source": [
    "## 02. Data Wrangling"
   ]
  },
  {
   "cell_type": "code",
   "execution_count": 8,
   "id": "5458d57a-4e94-4297-96c3-5ec082a6a682",
   "metadata": {},
   "outputs": [],
   "source": [
    "# Drop DATE column from answers\n",
    "\n",
    "weather.drop(columns = 'DATE', inplace = True)"
   ]
  },
  {
   "cell_type": "code",
   "execution_count": 9,
   "id": "d54bd7d7-5ea8-40fe-888e-6ea5b365698b",
   "metadata": {},
   "outputs": [
    {
     "data": {
      "text/plain": [
       "(22950, 15)"
      ]
     },
     "execution_count": 9,
     "metadata": {},
     "output_type": "execute_result"
    }
   ],
   "source": [
    "weather.shape # predictions dataset has the correct shape"
   ]
  },
  {
   "cell_type": "code",
   "execution_count": 10,
   "id": "55469bcf-69a1-4d55-8133-244b810ab2bd",
   "metadata": {},
   "outputs": [
    {
     "data": {
      "text/plain": [
       "(22950, 135)"
      ]
     },
     "execution_count": 10,
     "metadata": {},
     "output_type": "execute_result"
    }
   ],
   "source": [
    "climate.shape # observations dataset has the correct shape"
   ]
  },
  {
   "cell_type": "markdown",
   "id": "cd70c9d2-bbaa-4230-9769-84466e16bd8e",
   "metadata": {},
   "source": [
    "## 03. Reshaping for modeling\n",
    "- Ensure the layers can be fed to the deep learning model correctly.\n",
    "- You’ll need to split the observations (X) into 15 groups of 9 types of observations, and your labels (y) should also be in 15 groups (it doesn’t need to be transformed or reshaped).\n",
    "- The final shapes should be X = (22950, 15, 9) and y = (22950, 15)."
   ]
  },
  {
   "cell_type": "code",
   "execution_count": 11,
   "id": "5cde7efc-853b-4d42-b412-ca214a9fe21b",
   "metadata": {},
   "outputs": [],
   "source": [
    "X = climate"
   ]
  },
  {
   "cell_type": "code",
   "execution_count": 12,
   "id": "77a929f8-8f03-43f8-bcaf-bb3b2a2ecd6d",
   "metadata": {},
   "outputs": [],
   "source": [
    "y = weather"
   ]
  },
  {
   "cell_type": "code",
   "execution_count": 13,
   "id": "e87a40d6-8e1f-4899-96b5-393cd6806c90",
   "metadata": {},
   "outputs": [],
   "source": [
    "# Turn X and y from a df to arrays\n",
    "\n",
    "X = np.array(X)\n",
    "y = np.array(y)"
   ]
  },
  {
   "cell_type": "code",
   "execution_count": 14,
   "id": "e2a0496c-ab6a-4ee5-8522-2890ddd71c15",
   "metadata": {},
   "outputs": [],
   "source": [
    "X = X.reshape(-1,15,9)"
   ]
  },
  {
   "cell_type": "code",
   "execution_count": 15,
   "id": "563e968b-603c-45c8-8871-72d98d36c372",
   "metadata": {},
   "outputs": [
    {
     "data": {
      "text/plain": [
       "array([[[  7.    ,   0.85  ,   1.018 , ...,   6.5   ,   0.8   ,\n",
       "          10.9   ],\n",
       "        [  1.    ,   0.81  ,   1.0195, ...,   3.7   ,  -0.9   ,\n",
       "           7.9   ],\n",
       "        [  4.    ,   0.67  ,   1.017 , ...,   2.4   ,  -0.4   ,\n",
       "           5.1   ],\n",
       "        ...,\n",
       "        [  4.    ,   0.73  ,   1.0304, ...,  -5.9   ,  -8.5   ,\n",
       "          -3.2   ],\n",
       "        [  5.    ,   0.98  ,   1.0114, ...,   4.2   ,   2.2   ,\n",
       "           4.9   ],\n",
       "        [  5.    ,   0.88  ,   1.0003, ...,   8.5   ,   6.    ,\n",
       "          10.9   ]],\n",
       "\n",
       "       [[  6.    ,   0.84  ,   1.018 , ...,   6.1   ,   3.3   ,\n",
       "          10.1   ],\n",
       "        [  6.    ,   0.84  ,   1.0172, ...,   2.9   ,   2.2   ,\n",
       "           4.4   ],\n",
       "        [  4.    ,   0.67  ,   1.017 , ...,   2.3   ,   1.4   ,\n",
       "           3.1   ],\n",
       "        ...,\n",
       "        [  6.    ,   0.97  ,   1.0292, ...,  -9.5   , -10.5   ,\n",
       "          -8.5   ],\n",
       "        [  5.    ,   0.62  ,   1.0114, ...,   4.    ,   3.    ,\n",
       "           5.    ],\n",
       "        [  7.    ,   0.91  ,   1.0007, ...,   8.9   ,   5.6   ,\n",
       "          12.1   ]],\n",
       "\n",
       "       [[  8.    ,   0.9   ,   1.018 , ...,   8.5   ,   5.1   ,\n",
       "           9.9   ],\n",
       "        [  6.    ,   0.77  ,   1.0179, ...,   3.1   ,  -0.5   ,\n",
       "           6.4   ],\n",
       "        [  4.    ,   0.67  ,   1.017 , ...,   2.7   ,   1.7   ,\n",
       "           5.3   ],\n",
       "        ...,\n",
       "        [  8.    ,   0.93  ,   1.032 , ...,  -9.5   , -10.    ,\n",
       "          -8.9   ],\n",
       "        [  5.    ,   0.69  ,   1.0114, ...,   2.4   ,   1.3   ,\n",
       "           4.1   ],\n",
       "        [  7.    ,   0.91  ,   1.0096, ...,  10.5   ,   8.1   ,\n",
       "          12.9   ]],\n",
       "\n",
       "       ...,\n",
       "\n",
       "       [[  4.    ,   0.76  ,   1.0227, ...,  16.7   ,  13.1   ,\n",
       "          22.4   ],\n",
       "        [  2.    ,   0.68  ,   1.0278, ...,  13.4   ,   8.6   ,\n",
       "          18.2   ],\n",
       "        [  4.    ,   0.67  ,   1.017 , ...,  11.7   ,   7.9   ,\n",
       "          16.2   ],\n",
       "        ...,\n",
       "        [  3.    ,   0.84  ,   1.0263, ...,   3.3   ,   2.1   ,\n",
       "           4.5   ],\n",
       "        [  5.    ,   0.85  ,   1.0059, ...,  13.1   ,  12.1   ,\n",
       "          14.4   ],\n",
       "        [  5.    ,   0.82  ,   1.0142, ...,  10.7   ,   7.9   ,\n",
       "          13.5   ]],\n",
       "\n",
       "       [[  5.    ,   0.8   ,   1.0212, ...,  15.4   ,  11.6   ,\n",
       "          21.1   ],\n",
       "        [  1.    ,   0.68  ,   1.0238, ...,  15.    ,   9.1   ,\n",
       "          20.9   ],\n",
       "        [  4.    ,   0.67  ,   1.017 , ...,  11.7   ,   7.9   ,\n",
       "          16.2   ],\n",
       "        ...,\n",
       "        [  3.    ,   0.84  ,   1.0263, ...,   3.4   ,   2.7   ,\n",
       "           4.1   ],\n",
       "        [  5.    ,   0.94  ,   1.016 , ...,   7.5   ,   5.1   ,\n",
       "          12.4   ],\n",
       "        [  5.    ,   0.82  ,   1.0142, ...,  10.7   ,   7.9   ,\n",
       "          13.5   ]],\n",
       "\n",
       "       [[  5.    ,   0.84  ,   1.0193, ...,  13.5   ,   9.9   ,\n",
       "          19.2   ],\n",
       "        [  4.    ,   0.68  ,   1.0235, ...,  14.4   ,  10.4   ,\n",
       "          18.4   ],\n",
       "        [  4.    ,   0.67  ,   1.017 , ...,  11.7   ,   7.9   ,\n",
       "          16.2   ],\n",
       "        ...,\n",
       "        [  4.    ,   0.84  ,   1.0263, ...,   1.7   ,   0.7   ,\n",
       "           2.7   ],\n",
       "        [  5.    ,   0.97  ,   1.0164, ...,   9.7   ,   5.    ,\n",
       "          12.6   ],\n",
       "        [  5.    ,   0.82  ,   1.0142, ...,  10.7   ,   7.9   ,\n",
       "          13.5   ]]])"
      ]
     },
     "execution_count": 15,
     "metadata": {},
     "output_type": "execute_result"
    }
   ],
   "source": [
    "# Verify shape\n",
    "X"
   ]
  },
  {
   "cell_type": "markdown",
   "id": "c09e4857-9dcd-4c96-8f5c-25e2f65d699e",
   "metadata": {},
   "source": [
    "## 04. Data Split"
   ]
  },
  {
   "cell_type": "code",
   "execution_count": 16,
   "id": "3fc6994f-56d0-4793-a186-c1ffd4b9f3b6",
   "metadata": {},
   "outputs": [],
   "source": [
    "# Split data into train and test sets\n",
    "\n",
    "X_train, X_test, y_train, y_test = train_test_split(X,y,random_state = 42)"
   ]
  },
  {
   "cell_type": "code",
   "execution_count": 17,
   "id": "509e2e66-5fe7-4332-91c8-a403dc980dca",
   "metadata": {},
   "outputs": [
    {
     "name": "stdout",
     "output_type": "stream",
     "text": [
      "(17212, 15, 9) (17212, 15)\n",
      "(5738, 15, 9) (5738, 15)\n"
     ]
    }
   ],
   "source": [
    "print(X_train.shape, y_train.shape)\n",
    "print(X_test.shape, y_test.shape)"
   ]
  },
  {
   "cell_type": "markdown",
   "id": "e6be95b1-de18-4e64-aa22-91d85d527ca5",
   "metadata": {},
   "source": [
    "## 05. Creating Keras Model"
   ]
  },
  {
   "cell_type": "code",
   "execution_count": 18,
   "id": "6b8b96bc-0fdc-4749-b456-9ab35ff65f02",
   "metadata": {},
   "outputs": [],
   "source": [
    "epochs = 30\n",
    "batch_size = 16\n",
    "n_hidden = 64\n",
    "\n",
    "timesteps = len(X_train[0])\n",
    "input_dim = len(X_train[0][0])\n",
    "n_classes = len(y_train[0])\n",
    "\n",
    "model = Sequential()\n",
    "model.add(Conv1D(n_hidden, kernel_size=2, activation='relu', input_shape=(timesteps, input_dim)))\n",
    "model.add(MaxPooling1D())\n",
    "model.add(LSTM(n_hidden, input_shape=(timesteps, input_dim)))\n",
    "model.add(Dropout(0.5))\n",
    "model.add(Dense(n_classes, activation='tanh')) # Don't use relu here!"
   ]
  },
  {
   "cell_type": "code",
   "execution_count": 19,
   "id": "ed5427a2-162c-405c-84b9-25cb619a3908",
   "metadata": {},
   "outputs": [
    {
     "data": {
      "text/html": [
       "<pre style=\"white-space:pre;overflow-x:auto;line-height:normal;font-family:Menlo,'DejaVu Sans Mono',consolas,'Courier New',monospace\"><span style=\"font-weight: bold\">Model: \"sequential\"</span>\n",
       "</pre>\n"
      ],
      "text/plain": [
       "\u001b[1mModel: \"sequential\"\u001b[0m\n"
      ]
     },
     "metadata": {},
     "output_type": "display_data"
    },
    {
     "data": {
      "text/html": [
       "<pre style=\"white-space:pre;overflow-x:auto;line-height:normal;font-family:Menlo,'DejaVu Sans Mono',consolas,'Courier New',monospace\">┏━━━━━━━━━━━━━━━━━━━━━━━━━━━━━━━━━━━━━━┳━━━━━━━━━━━━━━━━━━━━━━━━━━━━━┳━━━━━━━━━━━━━━━━━┓\n",
       "┃<span style=\"font-weight: bold\"> Layer (type)                         </span>┃<span style=\"font-weight: bold\"> Output Shape                </span>┃<span style=\"font-weight: bold\">         Param # </span>┃\n",
       "┡━━━━━━━━━━━━━━━━━━━━━━━━━━━━━━━━━━━━━━╇━━━━━━━━━━━━━━━━━━━━━━━━━━━━━╇━━━━━━━━━━━━━━━━━┩\n",
       "│ conv1d (<span style=\"color: #0087ff; text-decoration-color: #0087ff\">Conv1D</span>)                      │ (<span style=\"color: #00d7ff; text-decoration-color: #00d7ff\">None</span>, <span style=\"color: #00af00; text-decoration-color: #00af00\">14</span>, <span style=\"color: #00af00; text-decoration-color: #00af00\">64</span>)              │           <span style=\"color: #00af00; text-decoration-color: #00af00\">1,216</span> │\n",
       "├──────────────────────────────────────┼─────────────────────────────┼─────────────────┤\n",
       "│ max_pooling1d (<span style=\"color: #0087ff; text-decoration-color: #0087ff\">MaxPooling1D</span>)         │ (<span style=\"color: #00d7ff; text-decoration-color: #00d7ff\">None</span>, <span style=\"color: #00af00; text-decoration-color: #00af00\">7</span>, <span style=\"color: #00af00; text-decoration-color: #00af00\">64</span>)               │               <span style=\"color: #00af00; text-decoration-color: #00af00\">0</span> │\n",
       "├──────────────────────────────────────┼─────────────────────────────┼─────────────────┤\n",
       "│ lstm (<span style=\"color: #0087ff; text-decoration-color: #0087ff\">LSTM</span>)                          │ (<span style=\"color: #00d7ff; text-decoration-color: #00d7ff\">None</span>, <span style=\"color: #00af00; text-decoration-color: #00af00\">64</span>)                  │          <span style=\"color: #00af00; text-decoration-color: #00af00\">33,024</span> │\n",
       "├──────────────────────────────────────┼─────────────────────────────┼─────────────────┤\n",
       "│ dropout (<span style=\"color: #0087ff; text-decoration-color: #0087ff\">Dropout</span>)                    │ (<span style=\"color: #00d7ff; text-decoration-color: #00d7ff\">None</span>, <span style=\"color: #00af00; text-decoration-color: #00af00\">64</span>)                  │               <span style=\"color: #00af00; text-decoration-color: #00af00\">0</span> │\n",
       "├──────────────────────────────────────┼─────────────────────────────┼─────────────────┤\n",
       "│ dense (<span style=\"color: #0087ff; text-decoration-color: #0087ff\">Dense</span>)                        │ (<span style=\"color: #00d7ff; text-decoration-color: #00d7ff\">None</span>, <span style=\"color: #00af00; text-decoration-color: #00af00\">15</span>)                  │             <span style=\"color: #00af00; text-decoration-color: #00af00\">975</span> │\n",
       "└──────────────────────────────────────┴─────────────────────────────┴─────────────────┘\n",
       "</pre>\n"
      ],
      "text/plain": [
       "┏━━━━━━━━━━━━━━━━━━━━━━━━━━━━━━━━━━━━━━┳━━━━━━━━━━━━━━━━━━━━━━━━━━━━━┳━━━━━━━━━━━━━━━━━┓\n",
       "┃\u001b[1m \u001b[0m\u001b[1mLayer (type)                        \u001b[0m\u001b[1m \u001b[0m┃\u001b[1m \u001b[0m\u001b[1mOutput Shape               \u001b[0m\u001b[1m \u001b[0m┃\u001b[1m \u001b[0m\u001b[1m        Param #\u001b[0m\u001b[1m \u001b[0m┃\n",
       "┡━━━━━━━━━━━━━━━━━━━━━━━━━━━━━━━━━━━━━━╇━━━━━━━━━━━━━━━━━━━━━━━━━━━━━╇━━━━━━━━━━━━━━━━━┩\n",
       "│ conv1d (\u001b[38;5;33mConv1D\u001b[0m)                      │ (\u001b[38;5;45mNone\u001b[0m, \u001b[38;5;34m14\u001b[0m, \u001b[38;5;34m64\u001b[0m)              │           \u001b[38;5;34m1,216\u001b[0m │\n",
       "├──────────────────────────────────────┼─────────────────────────────┼─────────────────┤\n",
       "│ max_pooling1d (\u001b[38;5;33mMaxPooling1D\u001b[0m)         │ (\u001b[38;5;45mNone\u001b[0m, \u001b[38;5;34m7\u001b[0m, \u001b[38;5;34m64\u001b[0m)               │               \u001b[38;5;34m0\u001b[0m │\n",
       "├──────────────────────────────────────┼─────────────────────────────┼─────────────────┤\n",
       "│ lstm (\u001b[38;5;33mLSTM\u001b[0m)                          │ (\u001b[38;5;45mNone\u001b[0m, \u001b[38;5;34m64\u001b[0m)                  │          \u001b[38;5;34m33,024\u001b[0m │\n",
       "├──────────────────────────────────────┼─────────────────────────────┼─────────────────┤\n",
       "│ dropout (\u001b[38;5;33mDropout\u001b[0m)                    │ (\u001b[38;5;45mNone\u001b[0m, \u001b[38;5;34m64\u001b[0m)                  │               \u001b[38;5;34m0\u001b[0m │\n",
       "├──────────────────────────────────────┼─────────────────────────────┼─────────────────┤\n",
       "│ dense (\u001b[38;5;33mDense\u001b[0m)                        │ (\u001b[38;5;45mNone\u001b[0m, \u001b[38;5;34m15\u001b[0m)                  │             \u001b[38;5;34m975\u001b[0m │\n",
       "└──────────────────────────────────────┴─────────────────────────────┴─────────────────┘\n"
      ]
     },
     "metadata": {},
     "output_type": "display_data"
    },
    {
     "data": {
      "text/html": [
       "<pre style=\"white-space:pre;overflow-x:auto;line-height:normal;font-family:Menlo,'DejaVu Sans Mono',consolas,'Courier New',monospace\"><span style=\"font-weight: bold\"> Total params: </span><span style=\"color: #00af00; text-decoration-color: #00af00\">35,215</span> (137.56 KB)\n",
       "</pre>\n"
      ],
      "text/plain": [
       "\u001b[1m Total params: \u001b[0m\u001b[38;5;34m35,215\u001b[0m (137.56 KB)\n"
      ]
     },
     "metadata": {},
     "output_type": "display_data"
    },
    {
     "data": {
      "text/html": [
       "<pre style=\"white-space:pre;overflow-x:auto;line-height:normal;font-family:Menlo,'DejaVu Sans Mono',consolas,'Courier New',monospace\"><span style=\"font-weight: bold\"> Trainable params: </span><span style=\"color: #00af00; text-decoration-color: #00af00\">35,215</span> (137.56 KB)\n",
       "</pre>\n"
      ],
      "text/plain": [
       "\u001b[1m Trainable params: \u001b[0m\u001b[38;5;34m35,215\u001b[0m (137.56 KB)\n"
      ]
     },
     "metadata": {},
     "output_type": "display_data"
    },
    {
     "data": {
      "text/html": [
       "<pre style=\"white-space:pre;overflow-x:auto;line-height:normal;font-family:Menlo,'DejaVu Sans Mono',consolas,'Courier New',monospace\"><span style=\"font-weight: bold\"> Non-trainable params: </span><span style=\"color: #00af00; text-decoration-color: #00af00\">0</span> (0.00 B)\n",
       "</pre>\n"
      ],
      "text/plain": [
       "\u001b[1m Non-trainable params: \u001b[0m\u001b[38;5;34m0\u001b[0m (0.00 B)\n"
      ]
     },
     "metadata": {},
     "output_type": "display_data"
    }
   ],
   "source": [
    "model.summary()"
   ]
  },
  {
   "cell_type": "markdown",
   "id": "e8c39b11-df57-46ac-9e02-fff63ea59be3",
   "metadata": {},
   "source": [
    "## 06. Compiling and Running"
   ]
  },
  {
   "cell_type": "code",
   "execution_count": 20,
   "id": "528b1d67-8bd4-491b-be30-9a6a8688d135",
   "metadata": {},
   "outputs": [],
   "source": [
    "model.compile(loss='categorical_crossentropy', optimizer='adam', metrics=['accuracy'])"
   ]
  },
  {
   "cell_type": "code",
   "execution_count": 21,
   "id": "516bc515-632e-425a-a847-a9fb95798ca0",
   "metadata": {},
   "outputs": [
    {
     "name": "stdout",
     "output_type": "stream",
     "text": [
      "Epoch 1/30\n",
      "1076/1076 - 22s - 20ms/step - accuracy: 0.0782 - loss: 24.5252\n",
      "Epoch 2/30\n",
      "1076/1076 - 13s - 12ms/step - accuracy: 0.0658 - loss: 24.4837\n",
      "Epoch 3/30\n",
      "1076/1076 - 13s - 12ms/step - accuracy: 0.0881 - loss: 25.0586\n",
      "Epoch 4/30\n",
      "1076/1076 - 13s - 12ms/step - accuracy: 0.0736 - loss: 24.7445\n",
      "Epoch 5/30\n",
      "1076/1076 - 13s - 12ms/step - accuracy: 0.0511 - loss: 25.1092\n",
      "Epoch 6/30\n",
      "1076/1076 - 13s - 12ms/step - accuracy: 0.0510 - loss: 24.8289\n",
      "Epoch 7/30\n",
      "1076/1076 - 12s - 11ms/step - accuracy: 0.0267 - loss: 24.5668\n",
      "Epoch 8/30\n",
      "1076/1076 - 13s - 12ms/step - accuracy: 0.0280 - loss: 24.8879\n",
      "Epoch 9/30\n",
      "1076/1076 - 12s - 11ms/step - accuracy: 0.0130 - loss: 24.8415\n",
      "Epoch 10/30\n",
      "1076/1076 - 13s - 12ms/step - accuracy: 0.0107 - loss: 25.0344\n",
      "Epoch 11/30\n",
      "1076/1076 - 13s - 12ms/step - accuracy: 0.0078 - loss: 24.7568\n",
      "Epoch 12/30\n",
      "1076/1076 - 21s - 19ms/step - accuracy: 0.0098 - loss: 24.5851\n",
      "Epoch 13/30\n",
      "1076/1076 - 13s - 12ms/step - accuracy: 0.0150 - loss: 24.6720\n",
      "Epoch 14/30\n",
      "1076/1076 - 13s - 12ms/step - accuracy: 0.0187 - loss: 24.2592\n",
      "Epoch 15/30\n",
      "1076/1076 - 21s - 20ms/step - accuracy: 0.0148 - loss: 24.5139\n",
      "Epoch 16/30\n",
      "1076/1076 - 20s - 19ms/step - accuracy: 0.0279 - loss: 24.3615\n",
      "Epoch 17/30\n",
      "1076/1076 - 13s - 12ms/step - accuracy: 0.0264 - loss: 24.2377\n",
      "Epoch 18/30\n",
      "1076/1076 - 13s - 12ms/step - accuracy: 0.0455 - loss: 24.1651\n",
      "Epoch 19/30\n",
      "1076/1076 - 13s - 12ms/step - accuracy: 0.0626 - loss: 24.3312\n",
      "Epoch 20/30\n",
      "1076/1076 - 13s - 12ms/step - accuracy: 0.0562 - loss: 25.0605\n",
      "Epoch 21/30\n",
      "1076/1076 - 12s - 12ms/step - accuracy: 0.0667 - loss: 25.0434\n",
      "Epoch 22/30\n",
      "1076/1076 - 13s - 12ms/step - accuracy: 0.0742 - loss: 24.9951\n",
      "Epoch 23/30\n",
      "1076/1076 - 12s - 11ms/step - accuracy: 0.0770 - loss: 24.2285\n",
      "Epoch 24/30\n",
      "1076/1076 - 13s - 12ms/step - accuracy: 0.0464 - loss: 24.2724\n",
      "Epoch 25/30\n",
      "1076/1076 - 13s - 12ms/step - accuracy: 0.0407 - loss: 24.3492\n",
      "Epoch 26/30\n",
      "1076/1076 - 13s - 12ms/step - accuracy: 0.0536 - loss: 24.5829\n",
      "Epoch 27/30\n",
      "1076/1076 - 21s - 19ms/step - accuracy: 0.0234 - loss: 24.3111\n",
      "Epoch 28/30\n",
      "1076/1076 - 20s - 19ms/step - accuracy: 0.0252 - loss: 24.4421\n",
      "Epoch 29/30\n",
      "1076/1076 - 13s - 12ms/step - accuracy: 0.0363 - loss: 24.4558\n",
      "Epoch 30/30\n",
      "1076/1076 - 12s - 12ms/step - accuracy: 0.0495 - loss: 24.4351\n"
     ]
    },
    {
     "data": {
      "text/plain": [
       "<keras.src.callbacks.history.History at 0x1a052a23a50>"
      ]
     },
     "execution_count": 21,
     "metadata": {},
     "output_type": "execute_result"
    }
   ],
   "source": [
    "model.fit(X_train, y_train, batch_size=batch_size, epochs=epochs, verbose=2)"
   ]
  },
  {
   "cell_type": "markdown",
   "id": "634fc7c5-80cc-4b1b-a7cd-b7c476b66c67",
   "metadata": {},
   "source": [
    "## 07. Creating Confusion Matrix"
   ]
  },
  {
   "cell_type": "code",
   "execution_count": 22,
   "id": "81fd350c-34c5-4b66-b2f7-4a9f49868424",
   "metadata": {},
   "outputs": [],
   "source": [
    "# Define list of stations names\n",
    "\n",
    "stations = {\n",
    "0: 'BASEL',\n",
    "1: 'BELGRADE',\n",
    "2: 'BUDAPEST',\n",
    "3: 'DEBILT',\n",
    "4: 'DUSSELDORF',\n",
    "5: 'HEATHROW',\n",
    "6: 'KASSEL',\n",
    "7: 'LJUBLJANA',\n",
    "8: 'MAASTRICHT',\n",
    "9: 'MADRID',\n",
    "10: 'MUNCHENB',\n",
    "11: 'OSLO',\n",
    "12: 'SONNBLICK',\n",
    "13: 'STOCKHOLM',\n",
    "14: 'VALENTIA'\n",
    "\n",
    "}"
   ]
  },
  {
   "cell_type": "code",
   "execution_count": 23,
   "id": "6fa2f12b-fb16-42c3-8f29-525b2430944d",
   "metadata": {},
   "outputs": [],
   "source": [
    "def confusion_matrix(y_true, y_pred):\n",
    "    y_true = pd.Series([stations[y] for y in np.argmax(y_true, axis=1)])\n",
    "    y_pred = pd.Series([stations[y] for y in np.argmax(y_pred, axis=1)])\n",
    "\n",
    "    return pd.crosstab(y_true, y_pred, rownames=['True'], colnames=['Pred'])"
   ]
  },
  {
   "cell_type": "code",
   "execution_count": 24,
   "id": "eaa296ec-81ee-4242-a5da-a1ab6606d4cc",
   "metadata": {},
   "outputs": [
    {
     "name": "stdout",
     "output_type": "stream",
     "text": [
      "\u001b[1m180/180\u001b[0m \u001b[32m━━━━━━━━━━━━━━━━━━━━\u001b[0m\u001b[37m\u001b[0m \u001b[1m3s\u001b[0m 10ms/step\n",
      "Pred        DEBILT  DUSSELDORF  MAASTRICHT\n",
      "True                                      \n",
      "BASEL           26           5        3651\n",
      "BELGRADE         0           0        1092\n",
      "BUDAPEST         0           0         214\n",
      "DEBILT           0           0          82\n",
      "DUSSELDORF       0           0          29\n",
      "HEATHROW         0           0          82\n",
      "KASSEL           0           0          11\n",
      "LJUBLJANA        0           0          61\n",
      "MAASTRICHT       0           0           9\n",
      "MADRID           0           0         458\n",
      "MUNCHENB         0           0           8\n",
      "OSLO             0           0           5\n",
      "STOCKHOLM        0           0           4\n",
      "VALENTIA         0           0           1\n"
     ]
    }
   ],
   "source": [
    "# Evaluate\n",
    "\n",
    "print(confusion_matrix(y_test, model.predict(X_test)))"
   ]
  },
  {
   "cell_type": "code",
   "execution_count": null,
   "id": "3de9a687-5a6d-46ea-ad30-4a1eebdd9ff3",
   "metadata": {},
   "outputs": [],
   "source": []
  }
 ],
 "metadata": {
  "kernelspec": {
   "display_name": "Python 3 (ipykernel)",
   "language": "python",
   "name": "python3"
  },
  "language_info": {
   "codemirror_mode": {
    "name": "ipython",
    "version": 3
   },
   "file_extension": ".py",
   "mimetype": "text/x-python",
   "name": "python",
   "nbconvert_exporter": "python",
   "pygments_lexer": "ipython3",
   "version": "3.11.7"
  }
 },
 "nbformat": 4,
 "nbformat_minor": 5
}
